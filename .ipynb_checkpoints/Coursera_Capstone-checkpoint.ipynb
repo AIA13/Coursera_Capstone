{
 "cells": [
  {
   "cell_type": "markdown",
   "metadata": {},
   "source": [
    "I am writing a markdown:\n",
    "* Some markdown to explain that this notebook will be mainly used for the capstone project"
   ]
  },
  {
   "cell_type": "code",
   "execution_count": 2,
   "metadata": {},
   "outputs": [
    {
     "name": "stdout",
     "output_type": "stream",
     "text": [
      "Hello Capstone Project Course!\n"
     ]
    }
   ],
   "source": [
    "import pandas as pd\n",
    "import numpy as np\n",
    "print(\"Hello Capstone Project Course!\")"
   ]
  },
  {
   "cell_type": "markdown",
   "metadata": {},
   "source": [
    "# Introduction"
   ]
  },
  {
   "cell_type": "markdown",
   "metadata": {},
   "source": [
    "## A description of the problem and a discussion of the background. "
   ]
  },
  {
   "cell_type": "markdown",
   "metadata": {},
   "source": [
    "<i> Clearly define a problem or an idea of your choice. Remember that data science problems always target an audience and are meant to help a group of stakeholders solve a problem, so make sure that you explicitly describe your audience and why they would care about your problem. </i>"
   ]
  },
  {
   "cell_type": "markdown",
   "metadata": {},
   "source": [
    "We live in an environmental world. We can not imagine our life without machines but some of them can be quite dangerous, cause injuries or even human death when used improperly. \n",
    "\n",
    "For example, according to WHO (World Health Organization) road accidents cause up to 1.4 million deaths worldwide annualy. Road accident is the 8th by frequency reason of death and the first one in 5-29 age period. People all over the world are working on the problem of minimisation of accident probability and severity because humans life is the most precious thing on Earth.\n",
    "\n",
    "In our work we will try to analyze the collected data from car accidents statistics to find out \n",
    "\n",
    "\"How might we predict the probability of a road accident in actual conditions to warn the human about the upcoming danger before the road accident occurs?\"\n"
   ]
  },
  {
   "cell_type": "markdown",
   "metadata": {},
   "source": [
    "## A description of the data and how it will be used to solve the problem."
   ]
  },
  {
   "cell_type": "markdown",
   "metadata": {},
   "source": [
    "<i> Describe the data that you will be using to solve the problem or execute your idea. So make sure that you provide adequate explanation and discussion, with examples, of the data that you will be using.\n",
    "\n",
    "This submission will eventually become your Data section in your final report. </i>"
   ]
  },
  {
   "cell_type": "markdown",
   "metadata": {},
   "source": [
    "According to the business question we need to investigate Data, containing information about different types of road accidents, including information about seveity and different conditions that may have caused the accident.\n",
    "In this work we will explore the dataset, provided by Coursera and containing various information avout road accidents in Seattle&\n",
    "The dataset has 38 columns and 194 673 rows that provide multiple information concerning road accidents.We assume that we can pick relevant indicators to build a supervised model that will be able to predict the possible road accident with sufficient probability.\n",
    "So the general plan is:\n",
    "* Inspect the dataset\n",
    "* Fix missing data and type mismatch problems\n",
    "* Investigate relations between parameeters and a target variable (Severity)\n",
    "* Pick the most illustrative parameters\n",
    "* Build a model based on picked parameters\n",
    "* Check model quality\n",
    "* Improve the model\n",
    "* DEliver the final model with recomendations"
   ]
  },
  {
   "cell_type": "code",
   "execution_count": null,
   "metadata": {},
   "outputs": [],
   "source": []
  }
 ],
 "metadata": {
  "kernelspec": {
   "display_name": "Python 3",
   "language": "python",
   "name": "python3"
  },
  "language_info": {
   "codemirror_mode": {
    "name": "ipython",
    "version": 3
   },
   "file_extension": ".py",
   "mimetype": "text/x-python",
   "name": "python",
   "nbconvert_exporter": "python",
   "pygments_lexer": "ipython3",
   "version": "3.7.6"
  }
 },
 "nbformat": 4,
 "nbformat_minor": 4
}
