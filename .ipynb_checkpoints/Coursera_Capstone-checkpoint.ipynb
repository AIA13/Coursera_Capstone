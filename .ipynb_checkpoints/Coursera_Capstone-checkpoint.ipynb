{
 "cells": [
  {
   "cell_type": "markdown",
   "metadata": {},
   "source": [
    "I am writing a markdown:\n",
    "* Some markdown to explain that this notebook will be mainly used for the capstone project"
   ]
  },
  {
   "cell_type": "code",
   "execution_count": 2,
   "metadata": {},
   "outputs": [
    {
     "name": "stdout",
     "output_type": "stream",
     "text": [
      "Hello Capstone Project Course!\n"
     ]
    }
   ],
   "source": [
    "import pandas as pd\n",
    "import numpy as np\n",
    "print(\"Hello Capstone Project Course!\")"
   ]
  },
  {
   "cell_type": "markdown",
   "metadata": {},
   "source": [
    "# Introduction"
   ]
  },
  {
   "cell_type": "markdown",
   "metadata": {},
   "source": [
    "## A description of the problem and a discussion of the background. "
   ]
  },
  {
   "cell_type": "markdown",
   "metadata": {},
   "source": [
    "<i> Clearly define a problem or an idea of your choice. Remember that data science problems always target an audience and are meant to help a group of stakeholders solve a problem, so make sure that you explicitly describe your audience and why they would care about your problem. </i>"
   ]
  },
  {
   "cell_type": "markdown",
   "metadata": {},
   "source": [
    "We live in an environmental world. We can not imagine our life without machines but some of them can be quite dangerous, cause injuries or even human death when used improperly. \n",
    "\n",
    "For example, according to WHO (World Health Organization) road accidents cause up to 1.4 million deaths worldwide annualy. Road accident is the 8th by frequency reason of death and the first one in 5-29 age period. People all over the world are working on the problem of minimisation of accident probability and severity because humans life is the most precious thing on Earth.\n",
    "\n",
    "In our work we will try to analyze the collected data from car accidents statistics to find out \n",
    "\n",
    "\"How might we predict the probability of a road accident in actual conditions to warn the human about the upcoming danger before the road accident occurs?\"\n"
   ]
  },
  {
   "cell_type": "markdown",
   "metadata": {},
   "source": [
    "# Data"
   ]
  },
  {
   "cell_type": "markdown",
   "metadata": {},
   "source": [
    "## A description of the data and how it will be used to solve the problem."
   ]
  },
  {
   "cell_type": "markdown",
   "metadata": {},
   "source": [
    "<i> Describe the data that you will be using to solve the problem or execute your idea. So make sure that you provide adequate explanation and discussion, with examples, of the data that you will be using.\n",
    "\n",
    "This submission will eventually become your Data section in your final report. </i>"
   ]
  },
  {
   "cell_type": "markdown",
   "metadata": {},
   "source": [
    "According to the business question we need to investigate Data, containing information about different types of road accidents, including information about seveity and different conditions that may have caused the accident.\n",
    "In this work we will explore the dataset, provided by Coursera and containing various information avout road accidents in Seattle&\n",
    "The dataset has 38 columns and 194 673 rows that provide multiple information concerning road accidents.We assume that we can pick relevant indicators to build a supervised model that will be able to predict the possible road accident with sufficient probability.\n",
    "So the general plan is:\n",
    "* Inspect the dataset\n",
    "* Fix missing data and type mismatch problems\n",
    "* Investigate relations between parameeters and a target variable (Severity)\n",
    "* Pick the most illustrative parameters\n",
    "* Build a model based on picked parameters\n",
    "* Check model quality\n",
    "* Improve the model\n",
    "* DEliver the final model with recomendations"
   ]
  },
  {
   "cell_type": "markdown",
   "metadata": {},
   "source": [
    "## Dataset description"
   ]
  },
  {
   "cell_type": "code",
   "execution_count": 3,
   "metadata": {},
   "outputs": [
    {
     "name": "stderr",
     "output_type": "stream",
     "text": [
      "/Users/Antipich/opt/anaconda3/lib/python3.7/site-packages/IPython/core/interactiveshell.py:3063: DtypeWarning: Columns (33) have mixed types.Specify dtype option on import or set low_memory=False.\n",
      "  interactivity=interactivity, compiler=compiler, result=result)\n"
     ]
    }
   ],
   "source": [
    "import pandas as pd\n",
    "import datetime as dt\n",
    "import seaborn as sns\n",
    "import matplotlib.pyplot as plt\n",
    "import numpy as np\n",
    "pd.set_option('display.max_columns', None)\n",
    "pd.options.display.width = None\n",
    "file='/Users/Antipich/Google Drive/Coursera/Python/IBM Capstone Project/Data-Collisions.csv'\n",
    "df=pd.read_csv(file)"
   ]
  },
  {
   "cell_type": "markdown",
   "metadata": {},
   "source": [
    "Let's calculate dataset size:"
   ]
  },
  {
   "cell_type": "code",
   "execution_count": 4,
   "metadata": {},
   "outputs": [
    {
     "name": "stdout",
     "output_type": "stream",
     "text": [
      "(194673, 38)\n"
     ]
    }
   ],
   "source": [
    "print(df.shape)"
   ]
  },
  {
   "cell_type": "markdown",
   "metadata": {},
   "source": [
    "Initial dataset consists of 194673 rows and 38 columns. Let's check datatypes:"
   ]
  },
  {
   "cell_type": "code",
   "execution_count": 7,
   "metadata": {},
   "outputs": [
    {
     "data": {
      "text/plain": [
       "SEVERITYCODE        int64\n",
       "X                 float64\n",
       "Y                 float64\n",
       "OBJECTID            int64\n",
       "INCKEY              int64\n",
       "COLDETKEY           int64\n",
       "REPORTNO           object\n",
       "STATUS             object\n",
       "ADDRTYPE           object\n",
       "INTKEY            float64\n",
       "LOCATION           object\n",
       "EXCEPTRSNCODE      object\n",
       "EXCEPTRSNDESC      object\n",
       "SEVERITYCODE.1      int64\n",
       "SEVERITYDESC       object\n",
       "COLLISIONTYPE      object\n",
       "PERSONCOUNT         int64\n",
       "PEDCOUNT            int64\n",
       "PEDCYLCOUNT         int64\n",
       "VEHCOUNT            int64\n",
       "INCDATE            object\n",
       "INCDTTM            object\n",
       "JUNCTIONTYPE       object\n",
       "SDOT_COLCODE        int64\n",
       "SDOT_COLDESC       object\n",
       "INATTENTIONIND     object\n",
       "UNDERINFL          object\n",
       "WEATHER            object\n",
       "ROADCOND           object\n",
       "LIGHTCOND          object\n",
       "PEDROWNOTGRNT      object\n",
       "SDOTCOLNUM        float64\n",
       "SPEEDING           object\n",
       "ST_COLCODE         object\n",
       "ST_COLDESC         object\n",
       "SEGLANEKEY          int64\n",
       "CROSSWALKKEY        int64\n",
       "HITPARKEDCAR       object\n",
       "dtype: object"
      ]
     },
     "execution_count": 7,
     "metadata": {},
     "output_type": "execute_result"
    }
   ],
   "source": [
    "df.dtypes"
   ]
  },
  {
   "cell_type": "markdown",
   "metadata": {},
   "source": [
    "We have selected these parameters to describe our model. \n",
    "The parameters have been chosen taking in mind the fact that they should be measurable during driving. They are: \n",
    "* Weather\n",
    "* Road conditions\n",
    "* Light conditions\n",
    "* Speeding\n",
    "\n",
    "and the dependent variable SEVERITY. Of course other parameters may play a very important role in our investigation but they can't be measured during driving (for example \"Drugs influence\" and the parameters of predicted incident). Let's construct the reduced datased excluding rows with Unknown or missing data."
   ]
  },
  {
   "cell_type": "code",
   "execution_count": 10,
   "metadata": {},
   "outputs": [
    {
     "data": {
      "text/plain": [
       "(170510, 5)"
      ]
     },
     "execution_count": 10,
     "metadata": {},
     "output_type": "execute_result"
    }
   ],
   "source": [
    "df_clean=df[[\n",
    "             'WEATHER',\n",
    "             'ROADCOND',\n",
    "             'LIGHTCOND',\n",
    "             'SPEEDING',\n",
    "            'SEVERITYCODE']][\n",
    "    (df['WEATHER']!='Unknown') &\n",
    "    (df['ROADCOND']!='Unknown') &\n",
    "    (df['LIGHTCOND']!='Unknown')]\n",
    "df_clean.rename(columns={'SEVERITYCODE': 'SEVERITY'}, inplace=True)\n",
    "df_clean['SPEEDING'].fillna(value='N',inplace=True)\n",
    "df_clean.replace({'SPEEDING':{'N':0,'Y':1}},inplace=True)\n",
    "df_clean.dropna(axis=0,inplace=True)\n",
    "df_clean.shape"
   ]
  },
  {
   "cell_type": "markdown",
   "metadata": {},
   "source": [
    "After our operations dataset consists of 70510 rows and 5 columns. Let us perform one hot encoding as our variables mainly are categorical."
   ]
  },
  {
   "cell_type": "code",
   "execution_count": 12,
   "metadata": {},
   "outputs": [],
   "source": [
    "# One HOT Encoding\n",
    "\n",
    "df_clean = pd.concat([df_clean,pd.get_dummies(df_clean['WEATHER'], prefix='Weather')],axis=1)\n",
    "df_clean.drop(['WEATHER'],axis=1, inplace=True)\n",
    "\n",
    "df_clean = pd.concat([df_clean,pd.get_dummies(df_clean['LIGHTCOND'], prefix='LightCond')],axis=1)\n",
    "df_clean.drop(['LIGHTCOND'],axis=1, inplace=True)\n",
    "\n",
    "df_clean = pd.concat([df_clean,pd.get_dummies(df_clean['ROADCOND'], prefix='RoadCond')],axis=1)\n",
    "df_clean.drop(['ROADCOND'],axis=1, inplace=True)"
   ]
  },
  {
   "cell_type": "markdown",
   "metadata": {},
   "source": [
    "# Methodology"
   ]
  },
  {
   "cell_type": "markdown",
   "metadata": {},
   "source": [
    "Let us examine the correlation of our variables with the dependent variable to choose appropriate model. We will use the Pearson correlation  for this operation. "
   ]
  },
  {
   "cell_type": "code",
   "execution_count": 13,
   "metadata": {},
   "outputs": [
    {
     "data": {
      "text/plain": [
       "<AxesSubplot:>"
      ]
     },
     "execution_count": 13,
     "metadata": {},
     "output_type": "execute_result"
    },
    {
     "data": {
      "image/png": "[encoded data removed]",
      "text/plain": [
       "<Figure size 432x288 with 2 Axes>"
      ]
     },
     "metadata": {
      "needs_background": "light"
     },
     "output_type": "display_data"
    }
   ],
   "source": [
    "import seaborn as sns\n",
    "ax0,fig0=plt.subplots()\n",
    "corr = df_clean.corr(method=\"pearson\")\n",
    "corr_sev=corr['SEVERITY'].sort_values()\n",
    "df_corr=pd.DataFrame(corr_sev)\n",
    "sns.heatmap(df_corr)"
   ]
  },
  {
   "cell_type": "markdown",
   "metadata": {},
   "source": [
    "## Discussion section"
   ]
  },
  {
   "cell_type": "markdown",
   "metadata": {},
   "source": [
    "Unfortunately, we have found out that none of the variables are in good corellation with Severity. That might mean that linear model approximation won't perform well. Let us examine top 5 and bottom 5 parameters that are in strongest correlation with SEVERITY."
   ]
  },
  {
   "cell_type": "code",
   "execution_count": 18,
   "metadata": {},
   "outputs": [
    {
     "data": {
      "text/html": [
       "<div>\n",
       "<style scoped>\n",
       "    .dataframe tbody tr th:only-of-type {\n",
       "        vertical-align: middle;\n",
       "    }\n",
       "\n",
       "    .dataframe tbody tr th {\n",
       "        vertical-align: top;\n",
       "    }\n",
       "\n",
       "    .dataframe thead th {\n",
       "        text-align: right;\n",
       "    }\n",
       "</style>\n",
       "<table border=\"1\" class=\"dataframe\">\n",
       "  <thead>\n",
       "    <tr style=\"text-align: right;\">\n",
       "      <th></th>\n",
       "      <th>SEVERITY</th>\n",
       "    </tr>\n",
       "  </thead>\n",
       "  <tbody>\n",
       "    <tr>\n",
       "      <th>LightCond_Dark - Street Lights On</th>\n",
       "      <td>-0.029372</td>\n",
       "    </tr>\n",
       "    <tr>\n",
       "      <th>RoadCond_Snow/Slush</th>\n",
       "      <td>-0.021316</td>\n",
       "    </tr>\n",
       "    <tr>\n",
       "      <th>LightCond_Dark - No Street Lights</th>\n",
       "      <td>-0.019214</td>\n",
       "    </tr>\n",
       "    <tr>\n",
       "      <th>Weather_Snowing</th>\n",
       "      <td>-0.019056</td>\n",
       "    </tr>\n",
       "    <tr>\n",
       "      <th>RoadCond_Ice</th>\n",
       "      <td>-0.014229</td>\n",
       "    </tr>\n",
       "    <tr>\n",
       "      <th>RoadCond_Wet</th>\n",
       "      <td>0.010186</td>\n",
       "    </tr>\n",
       "    <tr>\n",
       "      <th>Weather_Raining</th>\n",
       "      <td>0.012265</td>\n",
       "    </tr>\n",
       "    <tr>\n",
       "      <th>SPEEDING</th>\n",
       "      <td>0.026915</td>\n",
       "    </tr>\n",
       "    <tr>\n",
       "      <th>LightCond_Daylight</th>\n",
       "      <td>0.031597</td>\n",
       "    </tr>\n",
       "  </tbody>\n",
       "</table>\n",
       "</div>"
      ],
      "text/plain": [
       "                                   SEVERITY\n",
       "LightCond_Dark - Street Lights On -0.029372\n",
       "RoadCond_Snow/Slush               -0.021316\n",
       "LightCond_Dark - No Street Lights -0.019214\n",
       "Weather_Snowing                   -0.019056\n",
       "RoadCond_Ice                      -0.014229\n",
       "RoadCond_Wet                       0.010186\n",
       "Weather_Raining                    0.012265\n",
       "SPEEDING                           0.026915\n",
       "LightCond_Daylight                 0.031597"
      ]
     },
     "execution_count": 18,
     "metadata": {},
     "output_type": "execute_result"
    }
   ],
   "source": [
    "pd.concat([df_corr.head(5),df_corr.tail(5)]).head(9)"
   ]
  },
  {
   "cell_type": "markdown",
   "metadata": {},
   "source": [
    "As we can see the strongest correlation with speeding is only 3.2%. That means that non-linear approaches might result in better prediction accuracy."
   ]
  },
  {
   "cell_type": "markdown",
   "metadata": {},
   "source": [
    "# Statistical testing"
   ]
  },
  {
   "cell_type": "markdown",
   "metadata": {},
   "source": [
    "Let us construct our models, defining Test and train datasets"
   ]
  },
  {
   "cell_type": "code",
   "execution_count": 44,
   "metadata": {},
   "outputs": [],
   "source": [
    "from sklearn.model_selection import train_test_split\n",
    "X = df_clean.drop('SEVERITY',axis=1)\n",
    "y = df_clean['SEVERITY'].values\n",
    "\n",
    "X_train, X_test, y_train, y_test = train_test_split(\n",
    "    X, y, test_size=0.2, random_state=42)"
   ]
  },
  {
   "cell_type": "markdown",
   "metadata": {},
   "source": [
    "Below the size of Train and Test arrays is provided:"
   ]
  },
  {
   "cell_type": "code",
   "execution_count": 45,
   "metadata": {},
   "outputs": [
    {
     "name": "stdout",
     "output_type": "stream",
     "text": [
      "Train arrays:(136408, 27) (136408,), \n",
      "Test arrays (34102, 27) (34102,)\n"
     ]
    }
   ],
   "source": [
    "print('Train arrays:{} {}, \\nTest arrays {} {}'.format(X_train.shape,y_train.shape,X_test.shape,y_test.shape))"
   ]
  },
  {
   "cell_type": "markdown",
   "metadata": {},
   "source": [
    "Let us build several models and examine their quality on Train and Test Data. Before we should Normalize Data."
   ]
  },
  {
   "cell_type": "code",
   "execution_count": 47,
   "metadata": {},
   "outputs": [],
   "source": [
    "from sklearn.preprocessing import StandardScaler\n",
    "scaler=StandardScaler()\n",
    "X_train_norm=scaler.fit_transform(X_train)\n",
    "X_test_norm=scaler.transform(X_test)\n",
    "# y_train_norm=scaler.fit_transform(y_train.reshape(-1,1 ))\n",
    "# y_test_norm=scaler.transform(y_test.reshape(-1, 1))"
   ]
  },
  {
   "cell_type": "markdown",
   "metadata": {},
   "source": [
    "## Linear Ridge Regression"
   ]
  },
  {
   "cell_type": "code",
   "execution_count": 52,
   "metadata": {},
   "outputs": [
    {
     "name": "stdout",
     "output_type": "stream",
     "text": [
      "Accuracy Ridge Linear Regression train:0.0033\n",
      "Accuracy Ridge Linear Regression test:0.0035\n"
     ]
    }
   ],
   "source": [
    "from sklearn.linear_model import Ridge\n",
    "\n",
    "linear_regression_ridge = Ridge(random_state=42)\n",
    "model = linear_regression_ridge.fit(X_train_norm, y_train)\n",
    "\n",
    "print('Accuracy Ridge Linear Regression train:{:.4f}'.format(model.score(X_train_norm,y_train)))\n",
    "print('Accuracy Ridge Linear Regression test:{:.4f}'.format(model.score(X_test_norm,y_test)))"
   ]
  },
  {
   "cell_type": "markdown",
   "metadata": {},
   "source": [
    "As we have predicted linear model doesn't give good results because of low correlation."
   ]
  },
  {
   "cell_type": "markdown",
   "metadata": {},
   "source": [
    "## Logistic Regression"
   ]
  },
  {
   "cell_type": "code",
   "execution_count": 54,
   "metadata": {},
   "outputs": [
    {
     "name": "stdout",
     "output_type": "stream",
     "text": [
      "Accuracy Logistic Regression train:0.6722\n",
      "Accuracy Logistic Regression test:0.6732\n"
     ]
    }
   ],
   "source": [
    "from sklearn.linear_model import LogisticRegression\n",
    "LR = LogisticRegression(C=0.001, solver='liblinear').fit(X_train_norm,y_train)\n",
    "\n",
    "print('Accuracy Logistic Regression train:{:.4f}'.format(LR.score(X_train_norm,y_train)))\n",
    "print('Accuracy Logistic Regression test:{:.4f}'.format(LR.score(X_test_norm,y_test)))"
   ]
  },
  {
   "cell_type": "markdown",
   "metadata": {},
   "source": [
    "Logistic regression gives better results because of possible non-linear correlation between variables."
   ]
  },
  {
   "cell_type": "markdown",
   "metadata": {},
   "source": [
    "## Decision Trees"
   ]
  },
  {
   "cell_type": "code",
   "execution_count": 55,
   "metadata": {},
   "outputs": [
    {
     "name": "stdout",
     "output_type": "stream",
     "text": [
      "Accuracy Tree train:0.6723\n",
      "Accuracy Tree test:0.6732\n"
     ]
    }
   ],
   "source": [
    "from sklearn.tree import DecisionTreeClassifier\n",
    "Tree = DecisionTreeClassifier(criterion=\"entropy\", max_depth = 4)\n",
    "Tree.fit(X_train_norm,y_train)\n",
    "\n",
    "print('Accuracy Tree train:{:.4f}'.format(Tree.score(X_train_norm,y_train)))\n",
    "print('Accuracy Tree test:{:.4f}'.format(Tree.score(X_test_norm,y_test)))"
   ]
  },
  {
   "cell_type": "markdown",
   "metadata": {},
   "source": [
    "Decision trees give almost the same result as logistic regression -  67% accuracy"
   ]
  },
  {
   "cell_type": "markdown",
   "metadata": {},
   "source": [
    "## K Nearest Neighbours"
   ]
  },
  {
   "cell_type": "code",
   "execution_count": null,
   "metadata": {},
   "outputs": [
    {
     "name": "stdout",
     "output_type": "stream",
     "text": [
      "Accuracy Neigh train:0.6721\n"
     ]
    }
   ],
   "source": [
    "n=40\n",
    "from sklearn.neighbors import KNeighborsClassifier\n",
    "neigh = KNeighborsClassifier(n_neighbors=n).fit(X_train_norm, y_train)\n",
    "\n",
    "print('Accuracy Neigh train:{:.4f}'.format(neigh.score(X_train_norm,y_train)))\n",
    "print('Accuracy Neigh test:{:.4f}'.format(neigh.score(X_test_norm,y_test)))"
   ]
  },
  {
   "cell_type": "markdown",
   "metadata": {},
   "source": [
    "# Results section"
   ]
  },
  {
   "cell_type": "markdown",
   "metadata": {},
   "source": [
    "As we have noticed there is no linear relationship between selected variables and a target variable. That is why we have achieved poor results using Linear Regression method.\n",
    "This problem was brilliantly solved using non linear method of Logistic Regression, Decision Trees. Both methods led to 67% accuracy on train and test Datasets.\n",
    "K Nearest neighbours resulted in approximately the same accurcy.\n",
    "\n",
    "<b>Of course this result might be advanced but still this is already a good accuracy taking in mind that we deal with health and even the cost of a human life. </b>"
   ]
  },
  {
   "cell_type": "markdown",
   "metadata": {},
   "source": [
    "## Conclusion section"
   ]
  },
  {
   "cell_type": "markdown",
   "metadata": {},
   "source": [
    "We have finished examination of Accidents dataset and found out that predicting a car accident severity may be a complicated problem bacause the relationship between chosen variables and a target variable is not linear. A predictive model giving good results in 2/3 of cases was implemented using Logistics Regression and later proven by Decision Trees and K Nearest Neighbours.\n",
    "\n",
    "We can use this output model in perspective automobiles to give signals to the driver after multiple variables analysis. And probably using this model will result in a rapid fall of deaths and injuries on the road (<b>2/3*1.4 million = up to 1 million saved lives annually </b>)\n",
    "\n",
    "<b> \n",
    "However a deeper investigation should take place because the initial dataset was a learning one and a lot of vital parameters such as Tire pressure, Drivers Experience, Car drive type (rear/front/4wd) were missing. Possibly using those missing arguments may result in better predictive models implementaion.\n",
    " </b>"
   ]
  }
 ],
 "metadata": {
  "kernelspec": {
   "display_name": "Python 3",
   "language": "python",
   "name": "python3"
  },
  "language_info": {
   "codemirror_mode": {
    "name": "ipython",
    "version": 3
   },
   "file_extension": ".py",
   "mimetype": "text/x-python",
   "name": "python",
   "nbconvert_exporter": "python",
   "pygments_lexer": "ipython3",
   "version": "3.7.6"
  }
 },
 "nbformat": 4,
 "nbformat_minor": 4
}
